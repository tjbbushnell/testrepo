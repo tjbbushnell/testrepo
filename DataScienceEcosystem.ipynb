{
 "cells": [
  {
   "cell_type": "markdown",
   "id": "d38bf035-232b-4323-a512-a1a6ec0e064e",
   "metadata": {},
   "source": [
    "# Data Science Tools and Ecosystem using H1 style heading"
   ]
  },
  {
   "cell_type": "markdown",
   "id": "51260f8f-4dfc-4545-b74c-83f37fe50bc1",
   "metadata": {},
   "source": [
    "In this notebook, Data Science Tools and Ecosystems are summarized."
   ]
  },
  {
   "cell_type": "markdown",
   "id": "2e55ece2-4f7a-4ea2-afc9-c02e5e8fb4ac",
   "metadata": {},
   "source": [
    "## Author\n",
    "Tim Bushnell"
   ]
  },
  {
   "cell_type": "markdown",
   "id": "db335d94-e27c-42aa-bc75-effd8c9b090f",
   "metadata": {},
   "source": [
    "**Objectives:**\n",
    "- List popular languages\n",
    "- List common libraries used\n",
    "- Table of Tools\n",
    "- Examples of arithmetic expressions in Python"
   ]
  },
  {
   "cell_type": "markdown",
   "id": "63d491e3-659f-4654-ad0e-2827af8b79ca",
   "metadata": {
    "tags": []
   },
   "source": [
    "Some of the popular languages that Data Scientsts use are:\n",
    "1. Python\n",
    "2. R\n",
    "3. SQL\n",
    "4. Java\n",
    "5. Julia\n",
    "6. Scala"
   ]
  },
  {
   "cell_type": "markdown",
   "id": "183c98d9-a1bd-4b8f-b973-9a4a0f5f28d2",
   "metadata": {},
   "source": [
    "Some of the commonly used libraries used by Data Scientists include:\n",
    "1. TensorFlow\n",
    "2. NumbPy\n",
    "3. SciPy\n",
    "4. Pandas\n",
    "5. Matplotlib\n",
    "6. Keras"
   ]
  },
  {
   "cell_type": "markdown",
   "id": "c1674791-e708-4eea-a83c-722ae5f028c7",
   "metadata": {},
   "source": [
    "| Data Science Tools |\n",
    "| ----------- |\n",
    "| RStudio |\n",
    "| Apache Spark |\n",
    "| TensorFlow |\n",
    "| Apache Hadoop |\n",
    "| RapidMiner |"
   ]
  },
  {
   "cell_type": "markdown",
   "id": "b4a24c3c-10bc-4bdd-8a14-224bb08efce0",
   "metadata": {},
   "source": [
    "### Below are a few examples of evaluating arithmetic expressions in Python."
   ]
  },
  {
   "cell_type": "code",
   "execution_count": 3,
   "id": "be5a9227-43b4-4e4e-9325-d3ff806e558d",
   "metadata": {
    "tags": []
   },
   "outputs": [
    {
     "data": {
      "text/plain": [
       "17"
      ]
     },
     "execution_count": 3,
     "metadata": {},
     "output_type": "execute_result"
    }
   ],
   "source": [
    "# This is a simple arithmetic expression to multiply then add integers\n",
    "(3*4)+5"
   ]
  },
  {
   "cell_type": "code",
   "execution_count": 4,
   "id": "87581bbc-4c6a-42f4-adad-ab82f962751e",
   "metadata": {
    "tags": []
   },
   "outputs": [
    {
     "data": {
      "text/plain": [
       "3.3333333333333335"
      ]
     },
     "execution_count": 4,
     "metadata": {},
     "output_type": "execute_result"
    }
   ],
   "source": [
    "#This will convert 200 minutes to hours by dividing by 60\n",
    "200/60"
   ]
  },
  {
   "cell_type": "code",
   "execution_count": null,
   "id": "19ee2793-3542-456e-8e63-40b3de572fbf",
   "metadata": {},
   "outputs": [],
   "source": []
  }
 ],
 "metadata": {
  "kernelspec": {
   "display_name": "Python",
   "language": "python",
   "name": "conda-env-python-py"
  },
  "language_info": {
   "codemirror_mode": {
    "name": "ipython",
    "version": 3
   },
   "file_extension": ".py",
   "mimetype": "text/x-python",
   "name": "python",
   "nbconvert_exporter": "python",
   "pygments_lexer": "ipython3",
   "version": "3.7.12"
  }
 },
 "nbformat": 4,
 "nbformat_minor": 5
}
